{
  "nbformat": 4,
  "nbformat_minor": 0,
  "metadata": {
    "colab": {
      "name": "HakerRank 30 Days of code Star 1.ipynb",
      "provenance": [],
      "collapsed_sections": [],
      "authorship_tag": "ABX9TyM3rIS5Hg6DqTPOuCraCIPf",
      "include_colab_link": true
    },
    "kernelspec": {
      "name": "python3",
      "display_name": "Python 3"
    },
    "language_info": {
      "name": "python"
    }
  },
  "cells": [
    {
      "cell_type": "markdown",
      "metadata": {
        "id": "view-in-github",
        "colab_type": "text"
      },
      "source": [
        "<a href=\"https://colab.research.google.com/github/sankarraman2000/Data-analytics/blob/main/HakerRank_30_Days_of_code_Star_1.ipynb\" target=\"_parent\"><img src=\"https://colab.research.google.com/assets/colab-badge.svg\" alt=\"Open In Colab\"/></a>"
      ]
    },
    {
      "cell_type": "markdown",
      "source": [
        "**HackerRank Day 1**"
      ],
      "metadata": {
        "id": "kyCR5l6wlTN8"
      }
    },
    {
      "cell_type": "markdown",
      "source": [
        "**Task**\n",
        "\n",
        "Complete the code in the editor below. The variables i,dand s are already declared and initialized for you. You must:\n",
        "\n",
        "Declare 3 variables: one of type int, one of type double, and one of type String.\n",
        "\n",
        "Read 3 lines of input from stdin (according to the sequence given in the Input Format section below) and initialize your 3 variables.\n",
        "\n",
        "Use the  operator to perform the following operations:\n",
        "\n",
        "1.Print the sum of i plus your int variable on a new line.\n",
        "\n",
        "2.Print the sum of d plus your double variable to a scale of one decimal  place on a new line.\n",
        "\n",
        "3.Concatenate s with the string you read as input and print the result on a new line."
      ],
      "metadata": {
        "id": "cZvHFKCB-ZBu"
      }
    },
    {
      "cell_type": "code",
      "execution_count": 1,
      "metadata": {
        "colab": {
          "base_uri": "https://localhost:8080/"
        },
        "id": "sQzi1usbdhne",
        "outputId": "4a6fc125-e3c1-4d82-91f9-5887616dd457"
      },
      "outputs": [
        {
          "output_type": "stream",
          "name": "stdout",
          "text": [
            "4\n",
            "4\n",
            "ramakrishnan\n",
            "8\n",
            "8.0\n",
            "HackerRank ramakrishnan\n"
          ]
        }
      ],
      "source": [
        "i = 4\n",
        "d = 4.0\n",
        "s = 'HackerRank '\n",
        "# Declare second integer, double, and String variables.\n",
        "i1=int(input())\n",
        "d2=float(input())\n",
        "s2=str(input())\n",
        "# Read and save an integer, double, and String to your variables.)\n",
        "# Print the sum of both integer variables on a new line.\n",
        "print(i + i1)\n",
        "# Print the sum of the double variables on a new line.\n",
        "print(d + d2)\n",
        "# Concatenate and print the String variables on a new line\n",
        "print('{}{}'.format(s,s2))\n",
        "# The 's' variable above should be printed first."
      ]
    },
    {
      "cell_type": "markdown",
      "source": [
        "**HackerRank Day 2**"
      ],
      "metadata": {
        "id": "K02NN6chlRL4"
      }
    },
    {
      "cell_type": "markdown",
      "source": [
        "iven the meal price (base cost of a meal), tip percent (the percentage of the meal price being added as tip), and tax percent (the percentage of the meal price being added as tax) for a meal, find and print the meal's total cost. Round the result to the nearest integer.\n",
        "\n",
        "Example\n",
        "\n",
        "meal cost = 100\n",
        "\n",
        "tip percent = 15\n",
        "\n",
        "tax percent = 8\n",
        "\n",
        "A tip of 15% * 100 = 15, and the taxes are 8% * 100 = 8. Print the value  and return from the function."
      ],
      "metadata": {
        "id": "APZYyng5mhaf"
      }
    },
    {
      "cell_type": "code",
      "source": [
        "def solve(meal_cost, tip_percent, tax_percent):\n",
        "    # Write your code here\n",
        "    a=(meal_cost/100)*tip_percent\n",
        "    b=(tax_percent/100)*meal_cost\n",
        "    total=round(meal_cost+a+b)\n",
        "    print(total)\n",
        "if __name__ == '__main__':\n",
        "    meal_cost = float(input().strip())\n",
        "\n",
        "    tip_percent = int(input().strip())\n",
        "\n",
        "    tax_percent = int(input().strip())\n",
        "\n",
        "    solve(meal_cost, tip_percent, tax_percent)\n",
        "\n"
      ],
      "metadata": {
        "colab": {
          "base_uri": "https://localhost:8080/"
        },
        "id": "2DjSu53SfWfY",
        "outputId": "1cae3b6f-4690-4c16-da97-7fef43910f8d"
      },
      "execution_count": 2,
      "outputs": [
        {
          "output_type": "stream",
          "name": "stdout",
          "text": [
            "1689\n",
            "34\n",
            "12\n",
            "2466\n"
          ]
        }
      ]
    },
    {
      "cell_type": "markdown",
      "source": [
        "**HackerRank Day 3**"
      ],
      "metadata": {
        "id": "PRtkcc3KlJCx"
      }
    },
    {
      "cell_type": "markdown",
      "source": [
        "**Task**\n",
        "\n",
        "Given an integer, N, perform the following conditional actions:\n",
        "\n",
        "If N is odd, print Weird\n",
        "\n",
        "If  is even and in the inclusive range of 2 to 5 , print Not Weird\n",
        "\n",
        "If  is even and in the inclusive range of 6 to 20, print Weird\n",
        "\n",
        "If  is even and greater than 20 , print Not Weird\n",
        "\n",
        "Complete the stub code provided in your editor to print whether or not  is weird."
      ],
      "metadata": {
        "id": "dPQYvhySl5Tb"
      }
    },
    {
      "cell_type": "code",
      "source": [
        "if __name__ == '__main__':\n",
        "    N = int(input().strip())\n",
        "    if N % 2 != 0:\n",
        "        print('Weird')\n",
        "    if N%2==0:\n",
        "        if N in range(2,6):\n",
        "            print('Not Weird')\n",
        "        if N in range(6,21):\n",
        "            print('Weird')\n",
        "        if N >20:\n",
        "          print('Not Weird')"
      ],
      "metadata": {
        "colab": {
          "base_uri": "https://localhost:8080/"
        },
        "id": "jFsHn6dnk9fO",
        "outputId": "0479c7d5-4b08-4c13-b529-6ab0a4ffb68d"
      },
      "execution_count": 5,
      "outputs": [
        {
          "output_type": "stream",
          "name": "stdout",
          "text": [
            "6\n",
            "Weird\n"
          ]
        }
      ]
    },
    {
      "cell_type": "markdown",
      "source": [
        "**HackerRank Day 4**"
      ],
      "metadata": {
        "id": "t6NFr1VzlbNY"
      }
    },
    {
      "cell_type": "markdown",
      "source": [
        "Write a Person class with an instance variable,age , and a constructor that takes an integer,initialAge, as a parameter. The constructor must assign initialAge to  after confirming the argument passed as initialAge is not negative; if a negative argument is passed asinitialAge, the constructor should set age to 0 and print **Age is not valid, setting age to 0.**. In addition, you must write the following instance methods:\n",
        "\n",
        "yearPasses() should increase the  instance variable by 1.\n",
        "\n",
        "amIOld() should perform the following conditional actions:\n",
        "\n",
        "If age<13, print You are young..\n",
        "\n",
        "If age >=13 and <18, print You are a teenager..\n",
        "\n",
        "Otherwise, print You are old.."
      ],
      "metadata": {
        "id": "fEosKrwQ2NNd"
      }
    },
    {
      "cell_type": "code",
      "source": [
        "class Person:\n",
        "    def __init__(self,initialAge):\n",
        "        if initialAge <1:\n",
        "            self.age=0\n",
        "            print('Age is not valid, setting age to 0.')\n",
        "        else:\n",
        "            self.age=initialAge\n",
        "    def amIOld(self):\n",
        "        if self.age <13:\n",
        "            print('You are young.')\n",
        "        elif self.age < 18:\n",
        "            print('You are a teenager.')\n",
        "        else:\n",
        "            print('You are old.')\n",
        "    def yearPasses(self):\n",
        "        self.age += 1"
      ],
      "metadata": {
        "id": "PgOF6nXTlZnL"
      },
      "execution_count": null,
      "outputs": []
    },
    {
      "cell_type": "markdown",
      "source": [
        "**HackerRank Day 5**"
      ],
      "metadata": {
        "id": "wAsQXlQyldVy"
      }
    },
    {
      "cell_type": "markdown",
      "source": [
        "Given an integer,n , print its first 10 multiples. Each multiple n x i (where ) 1<=i<=10 should be printed on a new line in the form: n x i = result.\n",
        "\n",
        "Example\n",
        "\n",
        "n=3\n",
        "\n",
        "Output\n",
        "\n",
        "3 x 1 = 3\n",
        "\n",
        "3 x 2 = 6\n",
        "\n",
        "3 x 3 = 9\n",
        "\n",
        "3 x 4 = 12\n",
        "\n",
        "3 x 5 = 15\n",
        "\n",
        "3 x 6 = 18\n",
        "\n",
        "3 x 7 = 21\n",
        "\n",
        "3 x 8 = 24\n",
        "\n",
        "3 x 9 = 27\n",
        "\n",
        "3 x 10 = 30"
      ],
      "metadata": {
        "id": "UJFQcPPd9mVz"
      }
    },
    {
      "cell_type": "code",
      "source": [
        "if __name__ == '__main__':\n",
        "    n = int(input().strip())\n",
        "    for i in range(1,11):\n",
        "        result=n * i\n",
        "        print('{} x {} = {}'.format(n,i,result))\n"
      ],
      "metadata": {
        "id": "D-7-GaMwlZpW"
      },
      "execution_count": null,
      "outputs": []
    },
    {
      "cell_type": "markdown",
      "source": [
        "**HackerRank Day 6**"
      ],
      "metadata": {
        "id": "c_ygfxjGlgEJ"
      }
    },
    {
      "cell_type": "markdown",
      "source": [
        "Given a string,S , of length N that is indexed from 0 to N-1, print its even-indexed and odd-indexed characters as 2 space-separated strings on a single line (see the Sample below for more detail).\n",
        "\n",
        "Note: o is considered to be an even index.\n",
        "\n",
        "Example\n",
        "\n",
        "S=abcdef\n",
        "Print abc def"
      ],
      "metadata": {
        "id": "-HVXYYDI9OFG"
      }
    },
    {
      "cell_type": "code",
      "source": [
        "n=int(input().strip())\n",
        "words=[]\n",
        "\n",
        "for i in range(0,n):\n",
        "    word=input()\n",
        "    words.append(word)\n",
        "    \n",
        "for word in words:\n",
        "    t1=''\n",
        "    t2=''\n",
        "    for j in range (0,len(word)):\n",
        "        if j%2==0:\n",
        "            t1 +=word[j]\n",
        "        else:\n",
        "            t2 += word[j]\n",
        "            \n",
        "    print('{} {}'.format(t1,t2))"
      ],
      "metadata": {
        "id": "rxSrtkHKlZxu"
      },
      "execution_count": null,
      "outputs": []
    }
  ]
}